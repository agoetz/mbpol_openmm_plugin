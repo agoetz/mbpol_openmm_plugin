{
 "metadata": {
  "name": "",
  "signature": "sha256:e93d4d9f18269d033fafaab09d19beb07788de16142e4b49f99c3a0efec719a3"
 },
 "nbformat": 3,
 "nbformat_minor": 0,
 "worksheets": [
  {
   "cells": [
    {
     "cell_type": "code",
     "collapsed": false,
     "input": [
      "from __future__ import print_function"
     ],
     "language": "python",
     "metadata": {},
     "outputs": []
    },
    {
     "cell_type": "code",
     "collapsed": false,
     "input": [
      "from simtk.openmm import app\n",
      "import simtk.openmm as mm\n",
      "from simtk import unit\n",
      "import sys\n",
      "import mbpol"
     ],
     "language": "python",
     "metadata": {},
     "outputs": []
    },
    {
     "cell_type": "heading",
     "level": 4,
     "metadata": {},
     "source": [
      "Input system in pdb format"
     ]
    },
    {
     "cell_type": "code",
     "collapsed": false,
     "input": [
      "pdb = app.PDBFile(\"water14_cluster.pdb\")"
     ],
     "language": "python",
     "metadata": {},
     "outputs": []
    },
    {
     "cell_type": "heading",
     "level": 4,
     "metadata": {},
     "source": [
      "Define the type of potential, first file defines all elements, only the water model is in the second xml file"
     ]
    },
    {
     "cell_type": "code",
     "collapsed": false,
     "input": [
      "forcefield = app.ForceField(\"mbpol.xml\")\n",
      "# use tip4p\n",
      "#forcefield = app.ForceField(\"tip4pfb.xml\")"
     ],
     "language": "python",
     "metadata": {},
     "outputs": []
    },
    {
     "cell_type": "heading",
     "level": 4,
     "metadata": {},
     "source": [
      "Create the System, define an integrator, define the Simulation"
     ]
    },
    {
     "cell_type": "code",
     "collapsed": false,
     "input": [
      "system = forcefield.createSystem(pdb.topology, nonbondedMethod=app.CutoffNonPeriodic, nonBondedCutoff=1e3*unit.nanometer)\n",
      "integrator = mm.VerletIntegrator(0.00001*unit.femtoseconds)"
     ],
     "language": "python",
     "metadata": {},
     "outputs": []
    },
    {
     "cell_type": "code",
     "collapsed": false,
     "input": [
      "platform = mm.Platform.getPlatformByName('Reference')\n",
      "simulation = app.Simulation(pdb.topology, system, integrator, platform)\n",
      "simulation.context.setPositions(pdb.positions)\n",
      "simulation.context.computeVirtualSites()"
     ],
     "language": "python",
     "metadata": {},
     "outputs": []
    },
    {
     "cell_type": "heading",
     "level": 4,
     "metadata": {},
     "source": [
      "Compute initial energy and forces with getState"
     ]
    },
    {
     "cell_type": "code",
     "collapsed": false,
     "input": [
      "state = simulation.context.getState(getForces=True, getEnergy=True)\n",
      "potential_energy = state.getPotentialEnergy()\n",
      "potential_energy.in_units_of(unit.kilocalorie_per_mole)"
     ],
     "language": "python",
     "metadata": {},
     "outputs": []
    },
    {
     "cell_type": "code",
     "collapsed": false,
     "input": [
      "kilocalorie_per_mole_per_angstrom = unit.kilocalorie_per_mole/unit.angstrom\n",
      "for f in state.getForces():\n",
      "    print(f.in_units_of(kilocalorie_per_mole_per_angstrom))"
     ],
     "language": "python",
     "metadata": {},
     "outputs": []
    },
    {
     "cell_type": "heading",
     "level": 4,
     "metadata": {},
     "source": [
      "Local energy minimization"
     ]
    },
    {
     "cell_type": "code",
     "collapsed": false,
     "input": [
      "from simtk.openmm import LocalEnergyMinimizer"
     ],
     "language": "python",
     "metadata": {},
     "outputs": []
    },
    {
     "cell_type": "code",
     "collapsed": false,
     "input": [
      "LocalEnergyMinimizer.minimize(simulation.context, 1e-1)"
     ],
     "language": "python",
     "metadata": {},
     "outputs": []
    },
    {
     "cell_type": "heading",
     "level": 4,
     "metadata": {},
     "source": [
      "Energy, forces and positions after minimization"
     ]
    },
    {
     "cell_type": "code",
     "collapsed": false,
     "input": [
      "state = simulation.context.getState(getForces=True, getEnergy=True, getPositions=True)\n",
      "potential_energy = state.getPotentialEnergy()\n",
      "potential_energy.in_units_of(unit.kilocalorie_per_mole)"
     ],
     "language": "python",
     "metadata": {},
     "outputs": []
    },
    {
     "cell_type": "code",
     "collapsed": false,
     "input": [
      "kilocalorie_per_mole_per_angstrom = unit.kilocalorie_per_mole/unit.angstrom\n",
      "for f in state.getForces():\n",
      "    print(f.in_units_of(kilocalorie_per_mole_per_angstrom))"
     ],
     "language": "python",
     "metadata": {},
     "outputs": []
    },
    {
     "cell_type": "code",
     "collapsed": false,
     "input": [
      "state.getPositions()"
     ],
     "language": "python",
     "metadata": {},
     "outputs": []
    },
    {
     "cell_type": "heading",
     "level": 4,
     "metadata": {},
     "source": [
      "Run a constant energy simulation (Verlet integrator)"
     ]
    },
    {
     "cell_type": "code",
     "collapsed": false,
     "input": [
      "simulation.context.setVelocitiesToTemperature(300*unit.kelvin)\n",
      "# Equilibrate\n",
      "simulation.step(10)"
     ],
     "language": "python",
     "metadata": {},
     "outputs": []
    },
    {
     "cell_type": "markdown",
     "metadata": {},
     "source": [
      "Add a `reporter` that prints out the simulation status every 10 steps"
     ]
    },
    {
     "cell_type": "code",
     "collapsed": false,
     "input": [
      "simulation.reporters.append(app.StateDataReporter(sys.stdout, 10, step=True, \n",
      "    potentialEnergy=True, temperature=True, progress=True, remainingTime=True, \n",
      "    speed=True, totalSteps=110, separator='\\t'))"
     ],
     "language": "python",
     "metadata": {},
     "outputs": []
    },
    {
     "cell_type": "markdown",
     "metadata": {},
     "source": [
      "Add a `PDBReporter` that writes molecules positions every 20 steps in a pdb file."
     ]
    },
    {
     "cell_type": "code",
     "collapsed": false,
     "input": [
      "simulation.reporters.append(app.PDBReporter('trajectory.pdb', 20))"
     ],
     "language": "python",
     "metadata": {},
     "outputs": []
    },
    {
     "cell_type": "markdown",
     "metadata": {},
     "source": [
      "Run 100 steps"
     ]
    },
    {
     "cell_type": "code",
     "collapsed": false,
     "input": [
      "simulation.step(100)"
     ],
     "language": "python",
     "metadata": {},
     "outputs": []
    },
    {
     "cell_type": "code",
     "collapsed": false,
     "input": [
      "!head trajectory.pdb"
     ],
     "language": "python",
     "metadata": {},
     "outputs": []
    },
    {
     "cell_type": "code",
     "collapsed": false,
     "input": [
      "!echo Number of lines: `wc -l trajectory.pdb`"
     ],
     "language": "python",
     "metadata": {},
     "outputs": []
    },
    {
     "cell_type": "code",
     "collapsed": false,
     "input": [],
     "language": "python",
     "metadata": {},
     "outputs": []
    }
   ],
   "metadata": {}
  }
 ]
}