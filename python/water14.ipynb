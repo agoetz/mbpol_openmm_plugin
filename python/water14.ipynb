{
 "metadata": {
  "name": "",
  "signature": "sha256:8469edda66fdacacca49a3cba370dfdbc6f1a758b4de43e9221100798f6b3baa"
 },
 "nbformat": 3,
 "nbformat_minor": 0,
 "worksheets": [
  {
   "cells": [
    {
     "cell_type": "code",
     "collapsed": false,
     "input": [
      "from __future__ import print_function"
     ],
     "language": "python",
     "metadata": {},
     "outputs": []
    },
    {
     "cell_type": "code",
     "collapsed": false,
     "input": [
      "from simtk.openmm import app\n",
      "import simtk.openmm as mm\n",
      "from simtk import unit\n",
      "import mbpol"
     ],
     "language": "python",
     "metadata": {},
     "outputs": []
    },
    {
     "cell_type": "heading",
     "level": 4,
     "metadata": {},
     "source": [
      "Input system in pdb format"
     ]
    },
    {
     "cell_type": "code",
     "collapsed": false,
     "input": [
      "#pdb = app.PDBFile(\n",
      "#\"/home/zonca/Paesani/OpenMM/openmm/plugins/mbpol/python/water3.pdb\")\n",
      "#pdb = app.PDBFile(\n",
      "#\"/home/zonca/Paesani/OpenMM/openmm/plugins/mbpol/python/water2_fails.pdb\")\n",
      "pdb = app.PDBFile(\n",
      "\"/home/zonca/Paesani/OpenMM/openmm/plugins/mbpol/python/water14_cluster.pdb\")"
     ],
     "language": "python",
     "metadata": {},
     "outputs": []
    },
    {
     "cell_type": "code",
     "collapsed": false,
     "input": [
      "#pdb.positions[0] = pdb.positions[1]"
     ],
     "language": "python",
     "metadata": {},
     "outputs": []
    },
    {
     "cell_type": "heading",
     "level": 4,
     "metadata": {},
     "source": [
      "Define the type of potential, first file defines all elements, only the water model is in the second xml file"
     ]
    },
    {
     "cell_type": "code",
     "collapsed": false,
     "input": [
      "forcefield = app.ForceField(\"/home/zonca/Paesani/OpenMM/openmm/plugins/mbpol/python/mbpol.xml\")\n",
      "# use tip4p\n",
      "#forcefield = app.ForceField(\"tip4pfb.xml\")"
     ],
     "language": "python",
     "metadata": {},
     "outputs": []
    },
    {
     "cell_type": "heading",
     "level": 4,
     "metadata": {},
     "source": [
      "Create the System, define an integrator, define the Simulation"
     ]
    },
    {
     "cell_type": "code",
     "collapsed": false,
     "input": [
      "system = forcefield.createSystem(pdb.topology, nonbondedMethod=app.CutoffNonPeriodic, nonBondedCutoff=1e3*unit.nanometer)\n",
      "integrator = mm.VerletIntegrator(0.00001*unit.femtoseconds)"
     ],
     "language": "python",
     "metadata": {},
     "outputs": []
    },
    {
     "cell_type": "code",
     "collapsed": false,
     "input": [
      "platform = mm.Platform.getPlatformByName('Reference')\n",
      "simulation = app.Simulation(pdb.topology, system, integrator, platform)\n",
      "simulation.context.setPositions(pdb.positions)\n",
      "simulation.context.computeVirtualSites()"
     ],
     "language": "python",
     "metadata": {},
     "outputs": []
    },
    {
     "cell_type": "heading",
     "level": 4,
     "metadata": {},
     "source": [
      "Compute initial energy and forces with getState"
     ]
    },
    {
     "cell_type": "code",
     "collapsed": false,
     "input": [
      "state = simulation.context.getState(getForces=True, getEnergy=True)\n",
      "potential_energy = state.getPotentialEnergy()\n",
      "potential_energy.in_units_of(unit.kilocalorie_per_mole)"
     ],
     "language": "python",
     "metadata": {},
     "outputs": []
    },
    {
     "cell_type": "code",
     "collapsed": false,
     "input": [
      "kilocalorie_per_mole_per_angstrom = unit.kilocalorie_per_mole/unit.angstrom\n",
      "for f in state.getForces():\n",
      "    print(f.in_units_of(kilocalorie_per_mole_per_angstrom))"
     ],
     "language": "python",
     "metadata": {},
     "outputs": []
    },
    {
     "cell_type": "heading",
     "level": 4,
     "metadata": {},
     "source": [
      "Local energy minimization"
     ]
    },
    {
     "cell_type": "code",
     "collapsed": false,
     "input": [
      "from simtk.openmm import LocalEnergyMinimizer"
     ],
     "language": "python",
     "metadata": {},
     "outputs": []
    },
    {
     "cell_type": "code",
     "collapsed": false,
     "input": [
      "LocalEnergyMinimizer.minimize(simulation.context, 1e-3)"
     ],
     "language": "python",
     "metadata": {},
     "outputs": []
    },
    {
     "cell_type": "code",
     "collapsed": false,
     "input": [
      "state = simulation.context.getState(getForces=True, getEnergy=True, getPositions=True)\n",
      "potential_energy = state.getPotentialEnergy()\n",
      "potential_energy.in_units_of(unit.kilocalorie_per_mole)"
     ],
     "language": "python",
     "metadata": {},
     "outputs": []
    },
    {
     "cell_type": "code",
     "collapsed": false,
     "input": [
      "state.getPositions()"
     ],
     "language": "python",
     "metadata": {},
     "outputs": []
    },
    {
     "cell_type": "code",
     "collapsed": false,
     "input": [],
     "language": "python",
     "metadata": {},
     "outputs": []
    }
   ],
   "metadata": {}
  }
 ]
}